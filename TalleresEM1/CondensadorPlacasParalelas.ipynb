{
 "metadata": {
  "kernelspec": {
   "codemirror_mode": {
    "name": "ipython",
    "version": 2
   },
   "display_name": "IPython (Python 2)",
   "language": "python",
   "name": "python2"
  },
  "name": "",
  "signature": "sha256:757ef84329f695a48eedd92e8f55d4816501187bfb24931ea36ba15ed64d5bc7"
 },
 "nbformat": 3,
 "nbformat_minor": 0,
 "worksheets": [
  {
   "cells": [
    {
     "cell_type": "code",
     "collapsed": false,
     "input": [
      "% pylab inline"
     ],
     "language": "python",
     "metadata": {},
     "outputs": [
      {
       "output_type": "stream",
       "stream": "stdout",
       "text": [
        "Populating the interactive namespace from numpy and matplotlib\n"
       ]
      }
     ],
     "prompt_number": 3
    },
    {
     "cell_type": "code",
     "collapsed": false,
     "input": [
      "## TODO EN S.I. ##\n",
      "\n",
      "l = 0.02 #lado de la placa cuadrada\n",
      "L = 0.05 #lado de la region cuadrada = 0.5\n",
      "d = 0.01 #separacion de las placas\n",
      "h = 0.00008 #separacion de cuadros en la malla\n",
      "N = int(ceil(L/h)) #numero de puntos (impar)\n",
      "V_0 = 100.0 #voltaje entre placas\n",
      "V_mas = V_0/2.0 #voltaje en la placa positiva del condensador\n",
      "V_menos = -V_0/2.0 #voltaje en la parte negativa del consensador\n",
      "V_c = 1.0 #Voltaje constante en toda la region diferente de cero\n",
      "tau = 10**(-2) #tolerancia\n",
      "iteraciones = 500 #numero maximo de iteraciones"
     ],
     "language": "python",
     "metadata": {},
     "outputs": [],
     "prompt_number": 4
    },
    {
     "cell_type": "code",
     "collapsed": false,
     "input": [
      "print N"
     ],
     "language": "python",
     "metadata": {},
     "outputs": [
      {
       "output_type": "stream",
       "stream": "stdout",
       "text": [
        "625\n"
       ]
      }
     ],
     "prompt_number": 5
    },
    {
     "cell_type": "code",
     "collapsed": false,
     "input": [
      "#Funciones que llenan el potencial\n",
      "\n",
      "def phi(x, y, potencial):\n",
      "    return (1.0/4.0)*( potencial[(x+1,y)]+potencial[(x-1,y)]+potencial[(x,y+1)]+potencial[(x,y-1)] )\n",
      "\n",
      "def ciclo(potencial):\n",
      "    for i in range(1,N-1):\n",
      "        for j in range(1,N-1):\n",
      "            potencial[(i,j)]=phi(i,j,potencial)\n",
      "    return potencial        "
     ],
     "language": "python",
     "metadata": {},
     "outputs": [],
     "prompt_number": 6
    },
    {
     "cell_type": "code",
     "collapsed": false,
     "input": [
      "#Matriz de potencial\n",
      "\n",
      "potencial = ones((N,N))*V_c\n",
      "\n",
      "#Condiciones de frontera de Dirichlet: en el borde de la region el potencial es cero y sobre las placas constante.\n",
      "\n",
      "#borde\n",
      "potencial[0,:] = 0.0\n",
      "potencial[N-1,:] = 0.0\n",
      "potencial[:,0] = 0.0\n",
      "potencial[:,N-1] = 0.0\n",
      "\n",
      "#placas\n",
      "fila_abajo = (N+1)/2+int(d/h)\n",
      "fila_arriba = (N+1)/2-int(d/h)\n",
      "i = 3.0*L/10.0\n",
      "while (i < 7.0*L/10.0):\n",
      "    potencial[fila_abajo,int(i/h)]=V_mas\n",
      "    potencial[fila_arriba,int(i/h)]=V_menos\n",
      "    i += h"
     ],
     "language": "python",
     "metadata": {},
     "outputs": [],
     "prompt_number": 7
    },
    {
     "cell_type": "code",
     "collapsed": false,
     "input": [
      "print potencial[fila_abajo,int((L/2)/h)]\n",
      "print potencial[fila_arriba,int((L/2)/h)]\n",
      "\n",
      "imshow(potencial)\n",
      "\n",
      "print potencial"
     ],
     "language": "python",
     "metadata": {},
     "outputs": [
      {
       "output_type": "stream",
       "stream": "stdout",
       "text": [
        "50.0\n",
        "-50.0\n",
        "[[ 0.  0.  0. ...,  0.  0.  0.]\n",
        " [ 0.  1.  1. ...,  1.  1.  0.]\n",
        " [ 0.  1.  1. ...,  1.  1.  0.]\n",
        " ..., \n",
        " [ 0.  1.  1. ...,  1.  1.  0.]\n",
        " [ 0.  1.  1. ...,  1.  1.  0.]\n",
        " [ 0.  0.  0. ...,  0.  0.  0.]]\n"
       ]
      },
      {
       "metadata": {},
       "output_type": "display_data",
       "png": "[encoded data removed]",
       "text": [
        "<matplotlib.figure.Figure at 0x7f2ed4698190>"
       ]
      }
     ],
     "prompt_number": 9
    },
    {
     "cell_type": "code",
     "collapsed": false,
     "input": [
      "#falta lo del error que no se como se hace, entonces esta con todas las iteraciones por ahora\n",
      "\n",
      "for i in range(0,iteraciones):\n",
      "    ciclo(potencial)\n",
      "    j = 3.0*L/10.0\n",
      "    while (j < 7.0*L/10.0):\n",
      "        potencial[fila_abajo,int(j/h)]=V_mas\n",
      "        potencial[fila_arriba,int(j/h)]=V_menos\n",
      "        j += h"
     ],
     "language": "python",
     "metadata": {},
     "outputs": [],
     "prompt_number": 10
    },
    {
     "cell_type": "code",
     "collapsed": false,
     "input": [
      "imshow(potencial)"
     ],
     "language": "python",
     "metadata": {},
     "outputs": [
      {
       "metadata": {},
       "output_type": "pyout",
       "prompt_number": 11,
       "text": [
        "<matplotlib.image.AxesImage at 0x7f2ed46a3f10>"
       ]
      },
      {
       "metadata": {},
       "output_type": "display_data",
       "png": "[encoded data removed]",
       "text": [
        "<matplotlib.figure.Figure at 0x7f2ed46989d0>"
       ]
      }
     ],
     "prompt_number": 11
    },
    {
     "cell_type": "code",
     "collapsed": false,
     "input": [],
     "language": "python",
     "metadata": {},
     "outputs": []
    }
   ],
   "metadata": {}
  }
 ]
}